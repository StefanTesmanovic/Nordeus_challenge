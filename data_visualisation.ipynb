{
 "cells": [
  {
   "cell_type": "code",
   "execution_count": null,
   "metadata": {},
   "outputs": [],
   "source": [
    "%pip install scikit-learn\n",
    "%pip install pandas\n",
    "%pip install seaborn\n",
    "%pip install matplotlib\n",
    "%pip install pyQt5\n",
    "%pip install xgboost\n",
    "# or install tkinter for using TkAgg as matplotlib backend"
   ]
  },
  {
   "cell_type": "code",
   "execution_count": 1,
   "metadata": {},
   "outputs": [],
   "source": [
    "import seaborn as sns\n",
    "import matplotlib\n",
    "import matplotlib.pyplot as plt\n",
    "import pandas as pd\n",
    "import matplotlib.colors as mcolors\n",
    "from sklearn.model_selection import train_test_split\n",
    "from sklearn.metrics import mean_absolute_error\n",
    "\n",
    "df = pd.read_csv('registration_data_training.csv')"
   ]
  },
  {
   "cell_type": "code",
   "execution_count": null,
   "metadata": {},
   "outputs": [],
   "source": [
    "matplotlib.use('Qt5Agg') # if you want to see the plots run this block, some other options for backand if this doesnt work are: TkAgg, MacOSX"
   ]
  },
  {
   "cell_type": "markdown",
   "metadata": {},
   "source": [
    "Plots block further execution"
   ]
  },
  {
   "cell_type": "code",
   "execution_count": null,
   "metadata": {},
   "outputs": [],
   "source": [
    "# scatter\n",
    "target = 'days_active_first_28_days_after_registration'\n",
    "i = 0\n",
    "for column in df.columns:\n",
    "    if column in {target, 'user_id', 'registration_time_utc', 'registration_platform_specific', 'registration_country', 'registration_store'}: continue\n",
    "    sns.scatterplot(x=column, y=target, data=df, alpha=0.7)\n",
    "    sns.set_style('whitegrid')           \n",
    "    plt.title('Title')                   \n",
    "    plt.xlabel(column)                \n",
    "    plt.ylabel('Target Value')           \n",
    "    plt.show()  "
   ]
  },
  {
   "cell_type": "code",
   "execution_count": null,
   "metadata": {},
   "outputs": [],
   "source": [
    "# hexbin log norm\n",
    "target = 'days_active_first_28_days_after_registration'\n",
    "i = 0\n",
    "for column in df.columns:\n",
    "    if column in {target, 'registration_device_manufacturer', 'registration_device_type', 'user_id', 'registration_time_utc', 'registration_platform_specific', 'registration_country', 'registration_store', 'registration_channel_detailed'}: continue\n",
    "    plt.hexbin(df[column], df[target], gridsize=30, cmap='Blues',  alpha=1, norm=mcolors.LogNorm())\n",
    "    plt.colorbar(label='Density')           \n",
    "    plt.title('Log norm scale')                   \n",
    "    plt.xlabel(column)                \n",
    "    plt.ylabel('Target Value')           \n",
    "    plt.show()  "
   ]
  },
  {
   "cell_type": "code",
   "execution_count": null,
   "metadata": {},
   "outputs": [],
   "source": [
    "# hexbin power norm + scatter, best plot\n",
    "target = 'days_active_first_28_days_after_registration'\n",
    "i = 0\n",
    "for column in df.columns:\n",
    "    if column in {target, 'registration_device_manufacturer', 'registration_device_type', 'user_id', 'registration_time_utc', 'registration_platform_specific', 'registration_country', 'registration_store', 'registration_channel_detailed'}: continue\n",
    "    plt.hexbin(df[column], df[target], gridsize=30, cmap='Reds',  alpha=1, norm=mcolors.PowerNorm(gamma=0.4)) # gamma < 1, stretches smaller values\n",
    "    sns.scatterplot(x=column, y=target, data=df, alpha=0.7)\n",
    "    plt.colorbar(label='Density')           \n",
    "    plt.title('Power norm scale')                   \n",
    "    plt.xlabel(column)                \n",
    "    plt.ylabel('Target Value')           \n",
    "    plt.show() "
   ]
  },
  {
   "cell_type": "code",
   "execution_count": null,
   "metadata": {},
   "outputs": [],
   "source": [
    "# kde plot\n",
    "target = 'days_active_first_28_days_after_registration'\n",
    "i = 0\n",
    "for column in df.columns:\n",
    "    if column in {target, 'registration_device_manufacturer', 'registration_device_type', 'user_id', 'registration_time_utc', 'registration_platform_specific', 'registration_country', 'registration_store', 'registration_channel_detailed'}: continue\n",
    "    try:\n",
    "        sns.kdeplot(x=df[column], y=df[target], gridsize=30, cmap='Blues', fill=True)\n",
    "        sns.set_style('whitegrid')\n",
    "        plt.title('Title')                   \n",
    "        plt.xlabel(column)                \n",
    "        plt.ylabel('Target Value')           \n",
    "        plt.show() \n",
    "    except:\n",
    "        print(f'failed here {column}')"
   ]
  },
  {
   "cell_type": "code",
   "execution_count": 2,
   "metadata": {},
   "outputs": [],
   "source": [
    "# hist data\n",
    "\n",
    "df_hist = pd.read_csv('previous_lives_training_data.csv')\n",
    "\n",
    "aggregation_dict = {\n",
    "    'is_payer_lifetime': 'any',\n",
    "    'is_rewarded_video_watcher_lifetime': 'any',\n",
    "    'ratio': 'mean',\n",
    "    'days_active_lifetime': 'mean',\n",
    "    'transaction_count_iap_lifetime': 'sum'\n",
    "}\n",
    "df_hist['ratio'] = df_hist['days_active_lifetime'] / (28 - df_hist['registration_season_day']%28) # ratio of days played and the days left in the season\n",
    "df_hist = df_hist.groupby('user_id').agg(aggregation_dict)"
   ]
  },
  {
   "cell_type": "code",
   "execution_count": 3,
   "metadata": {},
   "outputs": [],
   "source": [
    "to_drop = ['registration_time_utc', 'registration_platform_specific', 'registration_country', 'registration_store', 'registration_channel_detailed', 'registration_device_type',\n",
    "           'registration_device_manufacturer']\n",
    "df = df.drop(columns=to_drop)\n",
    "df_full_data = pd.merge(df, df_hist, on='user_id', how='inner')\n",
    "\n",
    "df_full_data[['is_rewarded_video_watcher_lifetime', 'is_payer_lifetime']] = df_full_data[['is_rewarded_video_watcher_lifetime', 'is_payer_lifetime']].astype(int)\n",
    "df_full_data = df_full_data.fillna(-1) # average age can be NaN in some cases"
   ]
  },
  {
   "cell_type": "code",
   "execution_count": 4,
   "metadata": {},
   "outputs": [],
   "source": [
    "import xgboost as xgb \n",
    "\n",
    "label_column = 'days_active_first_28_days_after_registration'\n",
    "\n",
    "features = df_full_data.drop(columns=[label_column, 'user_id'])  \n",
    "features['playtime'] /= (1000*60*60)\n",
    "features['money_stash'] /= 1e9\n",
    "features['registration_season_day'] %= 28 #getting in on 28th day is like getting into season day 1 just \n",
    "features['tokens'] = features['tokens_spent'] / (features['tokens_spent'] + features['tokens_stash'])\n",
    "features['rests'] = features['rests_spent'] / (features['rests_spent'] + features['rests_stash'])\n",
    "features = features.fillna(0)\n",
    "\n",
    "labels = df_full_data[label_column]\n",
    "\n",
    "\n",
    "xg_regressor = xgb.XGBRegressor(n_estimators=1500, learning_rate=0.005)\n",
    "xg_regressor.fit(features, labels);\n",
    "\n"
   ]
  },
  {
   "cell_type": "code",
   "execution_count": 5,
   "metadata": {},
   "outputs": [],
   "source": [
    "df_test = pd.read_csv('registration_data_test.csv')\n",
    "df_hist_test = pd.read_csv('previous_lives_test_data.csv')\n",
    "\n",
    "df_hist_test['ratio'] = df_hist_test['days_active_lifetime'] / (28 - df_hist_test['registration_season_day']%28) # ratio of days played and the days left in the season\n",
    "df_hist_test = df_hist_test.groupby('user_id').agg(aggregation_dict)\n",
    "\n",
    "to_drop = ['registration_time_utc', 'registration_platform_specific', 'registration_country', 'registration_store', 'registration_channel_detailed', 'registration_device_type',\n",
    "           'registration_device_manufacturer']\n",
    "df_test = df_test.drop(columns=to_drop)\n",
    "df_full_data_test = pd.merge(df_test, df_hist_test, on='user_id', how='inner')\n",
    "\n",
    "df_full_data_test[['is_rewarded_video_watcher_lifetime', 'is_payer_lifetime']] = df_full_data_test[['is_rewarded_video_watcher_lifetime', 'is_payer_lifetime']].astype(int)\n",
    "df_full_data_test = df_full_data_test.fillna(-1)\n",
    "\n",
    "features_test = df_full_data_test.drop(columns=['user_id'])  \n",
    "features_test['playtime'] /= (1000*60*60)\n",
    "features_test['money_stash'] /= 1e9\n",
    "features_test['registration_season_day'] %= 28 #getting in on 28th day is like getting into season day 1 just \n",
    "features_test['tokens'] = features_test['tokens_spent'] / (features_test['tokens_spent'] + features_test['tokens_stash'])\n",
    "features_test['rests'] = features_test['rests_spent'] / (features_test['rests_spent'] + features_test['rests_stash'])\n",
    "features_test = features_test.fillna(0)\n",
    "\n",
    "y_pred = xg_regressor.predict(features_test)\n",
    "\n",
    "y_pred = [max(0, min(int(pred), 28)) for pred in y_pred]\n",
    "\n",
    "user_ids = df_test['user_id']\n",
    "\n",
    "df_submission = pd.DataFrame({\n",
    "    'user_id': user_ids,\n",
    "    'predicted_days_active_first_28_days_after_registration': y_pred\n",
    "})\n",
    "\n",
    "df_submission.to_csv('days_active_first_28_days_after_registration_predictions.csv', index=False)\n"
   ]
  }
 ],
 "metadata": {
  "kernelspec": {
   "display_name": "myvenv",
   "language": "python",
   "name": "python3"
  },
  "language_info": {
   "codemirror_mode": {
    "name": "ipython",
    "version": 3
   },
   "file_extension": ".py",
   "mimetype": "text/x-python",
   "name": "python",
   "nbconvert_exporter": "python",
   "pygments_lexer": "ipython3",
   "version": "3.12.3"
  }
 },
 "nbformat": 4,
 "nbformat_minor": 2
}
